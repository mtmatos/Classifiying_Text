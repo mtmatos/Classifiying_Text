{
 "cells": [
  {
   "cell_type": "markdown",
   "id": "66a9818b",
   "metadata": {},
   "source": [
    "# Analisys of Brazilian Congress law propositions using text clustering with unsupervised learning\n",
    "\n",
    "This notebook analises a dataset containing propositions made by congress men and congress women in Brazil during the year of 2023, aiming to create clusters to categorize themes of these propositions\n",
    "\n",
    "Such a grouping can help analyse what themes are being more discussed and provide more transparency to law propositions attending to public interest\n",
    "\n",
    "## Steps\n",
    "* Load and clean our dataset\n",
    "* Tokenize and vectorize the data\n",
    "* Categorize the data accordinly to the groups created\n",
    "\n",
    "## Dataset\n",
    "* Retrieved dataset from https://dadosabertos.camara.leg.br/swagger/api.html#staticfile\n",
    "* The file proposicoes.csv can be retrieved directly in https://dadosabertos.camara.leg.br/arquivos/proposicoes/csv/proposicoes-2023.csv\n"
   ]
  },
  {
   "cell_type": "markdown",
   "id": "f2d90e85",
   "metadata": {},
   "source": [
    "### Import dependencies"
   ]
  },
  {
   "cell_type": "code",
   "execution_count": 14,
   "id": "e3682348",
   "metadata": {},
   "outputs": [],
   "source": [
    "#data preprocessing\n",
    "import pandas as pd, numpy as np\n",
    "\n",
    "#nlp libraries\n",
    "import nltk\n",
    "from nltk.corpus import stopwords\n",
    "\n",
    "#machine learning libraries\n",
    "from sklearn.cluster import KMeans\n",
    "from sklearn.feature_extraction.text import TfidfVectorizer"
   ]
  },
  {
   "cell_type": "markdown",
   "id": "e03133e1",
   "metadata": {},
   "source": [
    "### Load the dataset"
   ]
  },
  {
   "cell_type": "code",
   "execution_count": 73,
   "id": "441ba1d6",
   "metadata": {},
   "outputs": [],
   "source": [
    "df = pd.read_csv('proposicoes-2023.csv', sep=\";\", \n",
    "                 usecols=[\"id\", \"uri\", \"siglaTipo\", \"ano\", \"descricaoTipo\", \"ementa\", \"ementaDetalhada\", \"keywords\"], \n",
    "                 dtype={\"id\": int, \n",
    "                        \"uri\": \"str\",\n",
    "                        \"siglaTipo\": \"str\", \n",
    "                        \"ano\": int,\n",
    "                        \"descricaoTipo\": \"str\",\n",
    "                        \"ementa\": \"string\",\n",
    "                        \"ementaDetalhada\": \"str\",\n",
    "                        \"keywords\": \"string\"})"
   ]
  },
  {
   "cell_type": "code",
   "execution_count": 74,
   "id": "fbb8b8f9",
   "metadata": {},
   "outputs": [
    {
     "data": {
      "text/html": [
       "<div>\n",
       "<style scoped>\n",
       "    .dataframe tbody tr th:only-of-type {\n",
       "        vertical-align: middle;\n",
       "    }\n",
       "\n",
       "    .dataframe tbody tr th {\n",
       "        vertical-align: top;\n",
       "    }\n",
       "\n",
       "    .dataframe thead th {\n",
       "        text-align: right;\n",
       "    }\n",
       "</style>\n",
       "<table border=\"1\" class=\"dataframe\">\n",
       "  <thead>\n",
       "    <tr style=\"text-align: right;\">\n",
       "      <th></th>\n",
       "      <th>id</th>\n",
       "      <th>uri</th>\n",
       "      <th>siglaTipo</th>\n",
       "      <th>ano</th>\n",
       "      <th>descricaoTipo</th>\n",
       "      <th>ementa</th>\n",
       "      <th>ementaDetalhada</th>\n",
       "      <th>keywords</th>\n",
       "    </tr>\n",
       "  </thead>\n",
       "  <tbody>\n",
       "    <tr>\n",
       "      <th>0</th>\n",
       "      <td>1198010</td>\n",
       "      <td>https://dadosabertos.camara.leg.br/api/v2/prop...</td>\n",
       "      <td>PL</td>\n",
       "      <td>2023</td>\n",
       "      <td>Projeto de Lei</td>\n",
       "      <td>Altera redação de dispositivos do artigo 4° da...</td>\n",
       "      <td>Possibilita o uso de recursos do Fundo Naciona...</td>\n",
       "      <td>Alteração, Lei do Fundo Nacional de Segurança ...</td>\n",
       "    </tr>\n",
       "    <tr>\n",
       "      <th>1</th>\n",
       "      <td>2115253</td>\n",
       "      <td>https://dadosabertos.camara.leg.br/api/v2/prop...</td>\n",
       "      <td>PL</td>\n",
       "      <td>2023</td>\n",
       "      <td>Projeto de Lei</td>\n",
       "      <td>Dispõe sobre a prestação de serviços postais a...</td>\n",
       "      <td>NaN</td>\n",
       "      <td>Critério, contratação, serviço postal, órgão p...</td>\n",
       "    </tr>\n",
       "    <tr>\n",
       "      <th>2</th>\n",
       "      <td>2345485</td>\n",
       "      <td>https://dadosabertos.camara.leg.br/api/v2/prop...</td>\n",
       "      <td>PL</td>\n",
       "      <td>2023</td>\n",
       "      <td>Projeto de Lei</td>\n",
       "      <td>Institui a Política Nacional de Longo Prazo.</td>\n",
       "      <td>NaN</td>\n",
       "      <td>Criação, Política Nacional de Longo Prazo (PNL...</td>\n",
       "    </tr>\n",
       "  </tbody>\n",
       "</table>\n",
       "</div>"
      ],
      "text/plain": [
       "        id                                                uri siglaTipo   ano  \\\n",
       "0  1198010  https://dadosabertos.camara.leg.br/api/v2/prop...        PL  2023   \n",
       "1  2115253  https://dadosabertos.camara.leg.br/api/v2/prop...        PL  2023   \n",
       "2  2345485  https://dadosabertos.camara.leg.br/api/v2/prop...        PL  2023   \n",
       "\n",
       "    descricaoTipo                                             ementa  \\\n",
       "0  Projeto de Lei  Altera redação de dispositivos do artigo 4° da...   \n",
       "1  Projeto de Lei  Dispõe sobre a prestação de serviços postais a...   \n",
       "2  Projeto de Lei       Institui a Política Nacional de Longo Prazo.   \n",
       "\n",
       "                                     ementaDetalhada  \\\n",
       "0  Possibilita o uso de recursos do Fundo Naciona...   \n",
       "1                                                NaN   \n",
       "2                                                NaN   \n",
       "\n",
       "                                            keywords  \n",
       "0  Alteração, Lei do Fundo Nacional de Segurança ...  \n",
       "1  Critério, contratação, serviço postal, órgão p...  \n",
       "2  Criação, Política Nacional de Longo Prazo (PNL...  "
      ]
     },
     "execution_count": 74,
     "metadata": {},
     "output_type": "execute_result"
    }
   ],
   "source": [
    "df.head(3)"
   ]
  },
  {
   "cell_type": "markdown",
   "id": "f10363aa",
   "metadata": {},
   "source": [
    "### Clean the data\n",
    "The loaded dataset contains a number of types of propositions that are of no interest to the proposed analysis, so is necessary to clean the dataset\n",
    "In this notebook we are considering the field \"ementa\" as the text to be classified also we are considering only law propositions, so we are limiting the types of propositions (that are classified in the field \"descricaoTipo\") to \"Projeto de Lei\" (law project) and \"Medida Provisória\" (a legal act in Brazil through which the President can create a temporary law)"
   ]
  },
  {
   "cell_type": "code",
   "execution_count": 66,
   "id": "5b3dd848",
   "metadata": {},
   "outputs": [],
   "source": [
    "# extract text\n",
    "texts = df[(~df['ementa'].isna()) & (df['descricaoTipo'].isin([\"Projeto de Lei\", \"Medida Provisória\"]))].ementa "
   ]
  },
  {
   "cell_type": "code",
   "execution_count": 75,
   "id": "0bae5ed2",
   "metadata": {},
   "outputs": [
    {
     "name": "stderr",
     "output_type": "stream",
     "text": [
      "[nltk_data] Downloading package stopwords to\n",
      "[nltk_data]     D:\\Users\\mauricio.matos\\AppData\\Roaming\\nltk_data...\n",
      "[nltk_data]   Package stopwords is already up-to-date!\n"
     ]
    },
    {
     "data": {
      "text/plain": [
       "True"
      ]
     },
     "execution_count": 75,
     "metadata": {},
     "output_type": "execute_result"
    }
   ],
   "source": [
    "# load stopwords package to be used in the vectorization of data\n",
    "nltk.download('stopwords')"
   ]
  },
  {
   "cell_type": "markdown",
   "id": "ee46438f",
   "metadata": {},
   "source": [
    "### Vectorize the dataset"
   ]
  },
  {
   "cell_type": "code",
   "execution_count": 42,
   "id": "3db5708d",
   "metadata": {},
   "outputs": [],
   "source": [
    "vectorizer = TfidfVectorizer(stop_words=stopwords.words('portuguese'))\n",
    "X = vectorizer.fit_transform(texts)"
   ]
  },
  {
   "cell_type": "markdown",
   "id": "304d8a51",
   "metadata": {},
   "source": [
    "### Create the model\n",
    "implement a k-means clustering algorithm in our vectorized data"
   ]
  },
  {
   "cell_type": "code",
   "execution_count": 46,
   "id": "ad24cad0",
   "metadata": {},
   "outputs": [
    {
     "data": {
      "text/plain": [
       "KMeans(max_iter=100, n_clusters=20, n_init=1)"
      ]
     },
     "execution_count": 46,
     "metadata": {},
     "output_type": "execute_result"
    }
   ],
   "source": [
    "#maximum number of clusters\n",
    "number_of_clusters = 20\n",
    "\n",
    "model = KMeans(n_clusters=number_of_clusters, \n",
    "               init='k-means++', \n",
    "               max_iter=100,\n",
    "               n_init=1)\n",
    "\n",
    "model.fit(X)"
   ]
  },
  {
   "cell_type": "markdown",
   "id": "3ba3b7ef",
   "metadata": {},
   "source": [
    "### Centroids and features"
   ]
  },
  {
   "cell_type": "code",
   "execution_count": 47,
   "id": "ef29cea5",
   "metadata": {},
   "outputs": [],
   "source": [
    "order_centroids = model.cluster_centers_.argsort()[:, ::-1]\n",
    "terms = vectorizer.get_feature_names_out()"
   ]
  },
  {
   "cell_type": "markdown",
   "id": "47ae9ace",
   "metadata": {},
   "source": [
    "### Print the Clusters created and common terms for each cluster"
   ]
  },
  {
   "cell_type": "code",
   "execution_count": 67,
   "id": "692fe59f",
   "metadata": {},
   "outputs": [
    {
     "name": "stdout",
     "output_type": "stream",
     "text": [
      "Cluster 0:\n",
      " lei\n",
      " nº\n",
      " altera\n",
      " art\n",
      " estabelece\n",
      " 12\n",
      " sobre\n",
      " federal\n",
      " dispor\n",
      " nacional\n",
      "Cluster 1:\n",
      " violência\n",
      " doméstica\n",
      " 2006\n",
      " 340\n",
      " agosto\n",
      " mulher\n",
      " 11\n",
      " familiar\n",
      " lei\n",
      " vítimas\n",
      "Cluster 2:\n",
      " dia\n",
      " nacional\n",
      " institui\n",
      " anualmente\n",
      " comemorado\n",
      " conscientização\n",
      " democracia\n",
      " cria\n",
      " celebrado\n",
      " outubro\n",
      "Cluster 3:\n",
      " 10\n",
      " civil\n",
      " lei\n",
      " nº\n",
      " 2003\n",
      " código\n",
      " altera\n",
      " 105\n",
      " 2002\n",
      " 826\n",
      "Cluster 4:\n",
      " imposto\n",
      " renda\n",
      " 1995\n",
      " isenção\n",
      " sobre\n",
      " 250\n",
      " pessoas\n",
      " físicas\n",
      " industrializados\n",
      " ipi\n",
      "Cluster 5:\n",
      " 1940\n",
      " 848\n",
      " penal\n",
      " decreto\n",
      " código\n",
      " dezembro\n",
      " lei\n",
      " nº\n",
      " crime\n",
      " altera\n",
      "Cluster 6:\n",
      " providências\n",
      " outras\n",
      " dá\n",
      " sobre\n",
      " dispõe\n",
      " institui\n",
      " lei\n",
      " altera\n",
      " nº\n",
      " nacional\n",
      "Cluster 7:\n",
      " estado\n",
      " município\n",
      " capital\n",
      " confere\n",
      " título\n",
      " nacional\n",
      " rio\n",
      " sul\n",
      " pará\n",
      " grande\n",
      "Cluster 8:\n",
      " segurança\n",
      " pública\n",
      " 2018\n",
      " nº\n",
      " lei\n",
      " 14\n",
      " junho\n",
      " altera\n",
      " 13\n",
      " sobre\n",
      "Cluster 9:\n",
      " deficiência\n",
      " pessoa\n",
      " 146\n",
      " pessoas\n",
      " 2015\n",
      " lei\n",
      " 13\n",
      " benefício\n",
      " nº\n",
      " julho\n",
      "Cluster 10:\n",
      " educação\n",
      " 394\n",
      " 1996\n",
      " 20\n",
      " bases\n",
      " dezembro\n",
      " diretrizes\n",
      " lei\n",
      " ensino\n",
      " básica\n",
      "Cluster 11:\n",
      " 1998\n",
      " 605\n",
      " fevereiro\n",
      " 12\n",
      " lei\n",
      " 656\n",
      " nº\n",
      " saúde\n",
      " altera\n",
      " planos\n",
      "Cluster 12:\n",
      " julho\n",
      " lei\n",
      " 1990\n",
      " nº\n",
      " 069\n",
      " criança\n",
      " adolescente\n",
      " 13\n",
      " altera\n",
      " estatuto\n",
      "Cluster 13:\n",
      " autista\n",
      " espectro\n",
      " transtorno\n",
      " 764\n",
      " 2012\n",
      " 27\n",
      " 12\n",
      " tea\n",
      " dezembro\n",
      " pessoa\n",
      "Cluster 14:\n",
      " 503\n",
      " trânsito\n",
      " 1997\n",
      " brasileiro\n",
      " 23\n",
      " setembro\n",
      " código\n",
      " veículos\n",
      " lei\n",
      " nº\n",
      "Cluster 15:\n",
      " heróis\n",
      " pátria\n",
      " livro\n",
      " inscreve\n",
      " heroínas\n",
      " nome\n",
      " edson\n",
      " arantes\n",
      " joão\n",
      " pelé\n",
      "Cluster 16:\n",
      " programa\n",
      " institui\n",
      " nacional\n",
      " política\n",
      " escolas\n",
      " apoio\n",
      " cria\n",
      " incentivo\n",
      " prevenção\n",
      " escolar\n",
      "Cluster 17:\n",
      " dispõe\n",
      " sobre\n",
      " obrigatoriedade\n",
      " criação\n",
      " proibição\n",
      " ensino\n",
      " saúde\n",
      " nacional\n",
      " uso\n",
      " instituições\n",
      "Cluster 18:\n",
      " trabalho\n",
      " consolidação\n",
      " leis\n",
      " 1943\n",
      " 452\n",
      " clt\n",
      " maio\n",
      " aprovada\n",
      " 1º\n",
      " decreto\n",
      "Cluster 19:\n",
      " setembro\n",
      " 1990\n",
      " consumidor\n",
      " 078\n",
      " 080\n",
      " 19\n",
      " 11\n",
      " lei\n",
      " nº\n",
      " altera\n"
     ]
    }
   ],
   "source": [
    "for i in range(number_of_clusters):\n",
    "    print(\"Cluster %d:\" % i),\n",
    "    for ind in order_centroids[i, :10]:\n",
    "        print(' %s' % terms[ind])"
   ]
  },
  {
   "cell_type": "code",
   "execution_count": 53,
   "id": "3f8f4262",
   "metadata": {},
   "outputs": [
    {
     "name": "stdout",
     "output_type": "stream",
     "text": [
      " lei\n",
      " nº\n",
      " altera\n",
      " art\n",
      " estabelece\n",
      " 12\n",
      " sobre\n",
      " federal\n",
      " dispor\n",
      " nacional\n"
     ]
    }
   ],
   "source": [
    "for ind in order_centroids[cluster, :10]:\n",
    "    print(' %s' % terms[ind])"
   ]
  },
  {
   "cell_type": "markdown",
   "id": "02dba2a8",
   "metadata": {},
   "source": [
    "### Create a new categorized dataframe\n",
    "Now we can create a new dataframe based on our text data and the clusters created to classify the propositions information"
   ]
  },
  {
   "cell_type": "code",
   "execution_count": 55,
   "id": "e0dd617e",
   "metadata": {},
   "outputs": [],
   "source": [
    "# method to categorize a text based on our model\n",
    "def classify_text(txt):\n",
    "    X = vectorizer.transform([txt])\n",
    "    cluster = model.predict(X)[0]\n",
    "    return cluster"
   ]
  },
  {
   "cell_type": "code",
   "execution_count": 69,
   "id": "f5ae070b",
   "metadata": {},
   "outputs": [],
   "source": [
    "# dataframe with text propostion and categorization\n",
    "df_c = pd.DataFrame(texts)\n",
    "df_c['cluster'] = df_c.ementa.apply(classify_text)"
   ]
  },
  {
   "cell_type": "markdown",
   "id": "62662767",
   "metadata": {},
   "source": [
    "### Analysis\n",
    "Analysis of the categorized dataframe. After our categorization, it's possible to get insights from the law proposition data\n",
    "\n",
    "For example, The Cluster Group 0 represents the majority of law propositions and it seems to be composed of propositions that alter existing laws, followed by Group 17 that seems to have propositions creating behavioral laws in public institutions\n",
    "\n",
    "So now is possible to analyze a quantitative of themes proposed to turn into laws and create graphs to visualize the data"
   ]
  },
  {
   "cell_type": "code",
   "execution_count": 96,
   "id": "987b4ab2",
   "metadata": {},
   "outputs": [
    {
     "data": {
      "text/plain": [
       "cluster\n",
       "0     1260\n",
       "1      121\n",
       "2      122\n",
       "3      195\n",
       "4      142\n",
       "5      221\n",
       "6      489\n",
       "7      108\n",
       "8      179\n",
       "9       91\n",
       "10     100\n",
       "11      88\n",
       "12     196\n",
       "13      73\n",
       "14      89\n",
       "15      43\n",
       "16     247\n",
       "17     575\n",
       "18      76\n",
       "19     104\n",
       "Name: ementa, dtype: int64"
      ]
     },
     "execution_count": 96,
     "metadata": {},
     "output_type": "execute_result"
    }
   ],
   "source": [
    "df_c.groupby(\"cluster\")[\"ementa\"].count()"
   ]
  },
  {
   "cell_type": "code",
   "execution_count": 100,
   "id": "c837f893",
   "metadata": {},
   "outputs": [
    {
     "data": {
      "image/png": "[encoded data removed]",
      "text/plain": [
       "<Figure size 1000x500 with 1 Axes>"
      ]
     },
     "metadata": {},
     "output_type": "display_data"
    }
   ],
   "source": [
    "import matplotlib.pyplot as plt \n",
    "\n",
    "fig = plt.figure(figsize = (10, 5))\n",
    "\n",
    "#iterate the summarized dataframe (number of propostions for cluster group)\n",
    "df_s = df_c.groupby(\"cluster\")[\"ementa\"].count().reset_index()\n",
    "  \n",
    "# Generate a bar graph\n",
    "plt.bar(df_s.cluster.astype(str), df_s.ementa, color ='maroon', \n",
    "        width = 0.4)\n",
    "plt.xlabel(\"Cluster group\")\n",
    "plt.ylabel(\"No. of propositions\")\n",
    "plt.title(\"No. of propositions by cluster groups\")\n",
    "plt.show()"
   ]
  },
  {
   "cell_type": "code",
   "execution_count": null,
   "id": "7d5f858a",
   "metadata": {},
   "outputs": [],
   "source": []
  }
 ],
 "metadata": {
  "kernelspec": {
   "display_name": "Python 3 (ipykernel)",
   "language": "python",
   "name": "python3"
  },
  "language_info": {
   "codemirror_mode": {
    "name": "ipython",
    "version": 3
   },
   "file_extension": ".py",
   "mimetype": "text/x-python",
   "name": "python",
   "nbconvert_exporter": "python",
   "pygments_lexer": "ipython3",
   "version": "3.9.13"
  }
 },
 "nbformat": 4,
 "nbformat_minor": 5
}
